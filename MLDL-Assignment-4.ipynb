{
 "cells": [
  {
   "cell_type": "markdown",
   "metadata": {},
   "source": [
    "# Assignment - 4"
   ]
  },
  {
   "cell_type": "markdown",
   "metadata": {},
   "source": [
    "##  1.1 Write a Python Program(with class concepts) to find the area of the triangle using the below formula. area = (s*(s-a)*(s-b)*(s-c)) ** 0.5 Function to take the length of the sides of triangle from user should be defined in the parent class and function to calculate the area should be defined in subclass."
   ]
  },
  {
   "cell_type": "code",
   "execution_count": 1,
   "metadata": {},
   "outputs": [
    {
     "name": "stdout",
     "output_type": "stream",
     "text": [
      "Enter the length of side A: 2\n",
      "Enter the lenght of side B: 3\n",
      "Enter the length of side C: 4\n",
      "Area of triangle: 2.9047375096555625\n"
     ]
    }
   ],
   "source": [
    "class triangle:\n",
    "    def __init__(self,a,b,c):\n",
    "        self.a = a\n",
    "        self.b = b\n",
    "        self.c = c\n",
    "    def area_1 (self):\n",
    "        s = ((self.a+self.b+self.c)/2)\n",
    "        return ((s*(s-self.a)*(s-self.b)*(s-self.c))**0.5)\n",
    "a = float(input(\"Enter the length of side A: \"))\n",
    "b = float(input(\"Enter the lenght of side B: \"))\n",
    "c = float(input(\"Enter the length of side C: \"))\n",
    "obj = triangle(a,b,c)\n",
    "print(\"Area of triangle:\",obj.area_1())"
   ]
  },
  {
   "cell_type": "markdown",
   "metadata": {},
   "source": [
    "## 1.2 Write a function filter_long_words() that takes a list of words and an integer n and returns the list of words that are longer than n."
   ]
  },
  {
   "cell_type": "code",
   "execution_count": 2,
   "metadata": {},
   "outputs": [
    {
     "name": "stdout",
     "output_type": "stream",
     "text": [
      "long length word =>['beautiful']\n"
     ]
    }
   ],
   "source": [
    "class list_utilities:\n",
    "    def __init__(self,word_list):\n",
    "        self.word_list = word_list\n",
    "    def filter_long_words(self,n):\n",
    "        return list(filter(lambda x : len(x)>n,self.word_list))\n",
    "instance = list_utilities([\"this\",\"is\",\"the\",\"beautiful\",\"world\"])\n",
    "print (\"long length word =>\"+str(instance.filter_long_words(5)))    \n",
    "        "
   ]
  },
  {
   "cell_type": "markdown",
   "metadata": {},
   "source": [
    "## 2.1 Write a Python program using function concept that maps list of words into a list of integers representing the lengths of the corresponding words. Hint: If a list [ ab,cde,erty] is passed on to the python function output should come as [2,3,4] Here 2,3 and 4 are the lengths of the words in the list."
   ]
  },
  {
   "cell_type": "code",
   "execution_count": 3,
   "metadata": {},
   "outputs": [
    {
     "data": {
      "text/plain": [
       "[4, 2, 3, 9, 5]"
      ]
     },
     "execution_count": 3,
     "metadata": {},
     "output_type": "execute_result"
    }
   ],
   "source": [
    "word_list = [\"this\",\"is\",\"the\",\"Beautiful\",\"world\"]\n",
    "def wordlenght(word_list):\n",
    "    return list(map(lambda x : len(x),word_list))\n",
    "wordlenght(word_list)"
   ]
  },
  {
   "cell_type": "markdown",
   "metadata": {},
   "source": [
    "## 2.2 Write a Python function which takes a character (i.e. a string of length 1) and returns True if it is a vowel, False otherwise."
   ]
  },
  {
   "cell_type": "code",
   "execution_count": 4,
   "metadata": {},
   "outputs": [
    {
     "name": "stdout",
     "output_type": "stream",
     "text": [
      "Enter the Character: k\n",
      "k is not vowels\n"
     ]
    }
   ],
   "source": [
    "def vowels(char):\n",
    "    if (char =='a'or char =='e'or char=='i'or char=='o'or char=='u'):\n",
    "        return True\n",
    "    else:\n",
    "        return False\n",
    "char = str(input(\"Enter the Character: \"))\n",
    "if(char.isalpha() == False):\n",
    "    exit()\n",
    "if (vowels(char)):\n",
    "    print(char,\"is vowels\")\n",
    "else:\n",
    "    print(char,\"is not vowels\")"
   ]
  }
 ],
 "metadata": {
  "kernelspec": {
   "display_name": "Python 3",
   "language": "python",
   "name": "python3"
  },
  "language_info": {
   "codemirror_mode": {
    "name": "ipython",
    "version": 3
   },
   "file_extension": ".py",
   "mimetype": "text/x-python",
   "name": "python",
   "nbconvert_exporter": "python",
   "pygments_lexer": "ipython3",
   "version": "3.7.6"
  }
 },
 "nbformat": 4,
 "nbformat_minor": 4
}
